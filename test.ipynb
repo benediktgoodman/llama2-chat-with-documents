{
 "cells": [
  {
   "cell_type": "code",
   "execution_count": 9,
   "metadata": {},
   "outputs": [],
   "source": [
    "from pathlib import Path\n",
    "\n",
    "\n",
    "from langchain_community.document_loaders import (\n",
    "    DirectoryLoader,\n",
    "    PyPDFLoader,\n",
    "    TextLoader,\n",
    "    UnstructuredMarkdownLoader,\n",
    ")\n",
    "from langchain_community.embeddings import HuggingFaceEmbeddings\n",
    "from langchain.text_splitter import RecursiveCharacterTextSplitter\n",
    "from langchain_community.vectorstores import Chroma\n",
    "\n",
    "DB_DIR: str = Path.cwd().joinpath('vectorstore.db')\n",
    "\n",
    "\n",
    "# Create vector database\n",
    "def create_vector_database():\n",
    "    \"\"\"\n",
    "    Creates a vector database using document loaders and embeddings.\n",
    "\n",
    "    This function loads data from PDF, markdown and text files in the 'data/' directory,\n",
    "    splits the loaded documents into chunks, transforms them into embeddings using HuggingFace,\n",
    "    and finally persists the embeddings into a Chroma vector database.\n",
    "\n",
    "    \"\"\"\n",
    "    # Initialize loaders for different file types\n",
    "    pdf_loader = DirectoryLoader(\"data/\", glob=\"**/*.pdf\", loader_cls=PyPDFLoader)\n",
    "    markdown_loader = DirectoryLoader(\n",
    "        \"data/\", glob=\"**/*.md\", loader_cls=UnstructuredMarkdownLoader\n",
    "    )\n",
    "    text_loader = DirectoryLoader(\"data/\", glob=\"**/*.txt\", loader_cls=TextLoader)\n",
    "\n",
    "    all_loaders = [pdf_loader, markdown_loader, text_loader]\n",
    "\n",
    "    # Load documents from all loaders\n",
    "    loaded_documents = []\n",
    "    for loader in all_loaders:\n",
    "        loaded_documents.extend(loader.load())\n",
    "\n",
    "    # Split loaded documents into chunks\n",
    "    text_splitter = RecursiveCharacterTextSplitter(chunk_size=500, chunk_overlap=40)\n",
    "    chunked_documents = text_splitter.split_documents(loaded_documents)\n",
    "\n",
    "    # Initialize HuggingFace embeddings\n",
    "    huggingface_embeddings = HuggingFaceEmbeddings(\n",
    "        model_name=\"sentence-transformers/all-MiniLM-L6-v2\",\n",
    "        model_kwargs={\"device\": \"gpu\"},\n",
    "    )\n",
    "\n",
    "    # Create and persist a Chroma vector database from the chunked documents\n",
    "    vector_database = Chroma.from_documents(\n",
    "        documents=chunked_documents,\n",
    "        embedding=huggingface_embeddings,\n",
    "        persist_directory=DB_DIR,\n",
    "    )\n",
    "\n",
    "    vector_database.persist()\n",
    "\n",
    "\n",
    "if __name__ == \"__main__\":\n",
    "    create_vector_database()\n"
   ]
  },
  {
   "cell_type": "code",
   "execution_count": 8,
   "metadata": {},
   "outputs": [
    {
     "data": {
      "text/plain": [
       "WindowsPath('e:/Coding projects/Git repos/llama2-chat-with-documents/file.db')"
      ]
     },
     "execution_count": 8,
     "metadata": {},
     "output_type": "execute_result"
    }
   ],
   "source": []
  },
  {
   "cell_type": "code",
   "execution_count": null,
   "metadata": {},
   "outputs": [],
   "source": []
  }
 ],
 "metadata": {
  "kernelspec": {
   "display_name": "llm-sandbox-310",
   "language": "python",
   "name": "python3"
  },
  "language_info": {
   "codemirror_mode": {
    "name": "ipython",
    "version": 3
   },
   "file_extension": ".py",
   "mimetype": "text/x-python",
   "name": "python",
   "nbconvert_exporter": "python",
   "pygments_lexer": "ipython3",
   "version": "3.11.5"
  }
 },
 "nbformat": 4,
 "nbformat_minor": 2
}
